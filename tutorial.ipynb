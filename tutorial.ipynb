{
 "cells": [
  {
   "cell_type": "markdown",
   "metadata": {},
   "source": [
    "# Multimodal (2D/3D) change detection for natural disaster response </h1>\n",
    "\n",
    "**This tutorial will highlight the capabilities of multimodal satellite imagery in addressing some of nowadays most impacting societal challenges using open source tools from CNES (French space agency).**\n",
    "\n",
    "In anticipation of the future CO3D mission, the French space agency (CNES) is currently developing open source tools for large-scale 3D data processing. With the arrival of 3D data on a more frequent basis, new use-cases for such data sources are emerging and enabling its applicability to pressing challenges such as improved crisis management in the aftermath of natural disasters. Change detection methodologies and their application to natural disaster response constitute a long-standing field within the remote sensing community, with initiatives like The International Charter Space and Major Disasters, open data programs of commercial satellite providers or annotated datasets like xview2 enabling a growing number of researchers and practitioners to continuously improve existing solutions. However, until now, the availability of post-event imagery, and thus related algorithms, have mainly been limited to monoscopic acquisitions, whereas with this type of constellations, a growing number of 3D data should also cover areas impacted by climate-related hazards.\n",
    "\n",
    "In this context, CNES is currently working on the hybridization of 2D and 3D data for multimodal change detection. The proposed tutorial will present and teach some of this work being carried out by CNES through a pipeline that can be used for rapid mapping and longer-term risk and recovery management in order to help improving and enriching common existing approaches.\n",
    "\n",
    "During this tutorial, you will discover how to:\n",
    "- generate Digital Surface Models from sets of stereo satellite images using the CARS 3D reconstruction library : https://github.com/CNES/cars\n",
    "- extract the Digital Terrain Models from Digital Surface Models through the Bulldozer library and derive a final Digital Height Model based on the obtained results : https://github.com/cnes/bulldozer\n",
    "- extract semantic information from the 2D imagery by using classification models and spectral indices\n",
    "- combine 2D and 3D change indicators in order to quantify and localize the potentially changed areas on a map\n",
    "- visualize, filter and extract information on these changes using the uncertainties provided by the tools"
   ]
  },
  {
   "cell_type": "markdown",
   "metadata": {},
   "source": [
    "## Installation"
   ]
  },
  {
   "cell_type": "markdown",
   "metadata": {},
   "source": [
    "### Download software"
   ]
  },
  {
   "cell_type": "code",
   "execution_count": null,
   "metadata": {},
   "outputs": [],
   "source": [
    "!rm -rf outresults config.json config.yaml"
   ]
  },
  {
   "cell_type": "code",
   "execution_count": null,
   "metadata": {},
   "outputs": [],
   "source": [
    "!python --version"
   ]
  },
  {
   "cell_type": "code",
   "execution_count": null,
   "metadata": {},
   "outputs": [],
   "source": [
    "import os\n",
    "if os.path.exists(\"requirements.txt\") is False:\n",
    "    !wget https://raw.githubusercontent.com/cars-cnes/change-detection-for-natural-disaster-response/main/requirements.txt\n",
    "    !pip install -r requirements.txt"
   ]
  },
  {
   "cell_type": "code",
   "execution_count": null,
   "metadata": {},
   "outputs": [],
   "source": [
    "!cars -h"
   ]
  },
  {
   "cell_type": "code",
   "execution_count": null,
   "metadata": {},
   "outputs": [],
   "source": [
    "!bulldozer -h"
   ]
  },
  {
   "cell_type": "markdown",
   "metadata": {},
   "source": [
    "### Useful functions"
   ]
  },
  {
   "cell_type": "markdown",
   "metadata": {},
   "source": [
    "#### Display function"
   ]
  },
  {
   "cell_type": "code",
   "execution_count": null,
   "metadata": {},
   "outputs": [],
   "source": [
    "def normalize(array, quantile=2):\n",
    "    \"\"\"\n",
    "    normalizes bands into 0-255 scale\n",
    "    :param array: numpy array to normalize\n",
    "    :param quantile: quantile for ignoring outliers\n",
    "    \"\"\"\n",
    "    array = np.nan_to_num(array)\n",
    "    array_min, array_max = np.percentile(array, quantile), np.percentile(array, 100-quantile)\n",
    "    normalized = 255*((array - array_min)/(array_max - array_min))\n",
    "    normalized[normalized>255] = 255\n",
    "    normalized[normalized<0] = 0\n",
    "    return normalized.astype(np.uint8)"
   ]
  },
  {
   "cell_type": "markdown",
   "metadata": {},
   "source": [
    "#### Morphologic filter"
   ]
  },
  {
   "cell_type": "code",
   "execution_count": null,
   "metadata": {},
   "outputs": [],
   "source": [
    "from skimage import morphology\n",
    "import cv2\n",
    "import numpy as np\n",
    "\n",
    "def opening_by_reconstruction(pict, kernel):\n",
    "    reconstruction = cv2.morphologyEx(pict, cv2.MORPH_OPEN, kernel)\n",
    "    while True:\n",
    "        dilated = np.minimum(pict, cv2.dilate(reconstruction, kernel))\n",
    "        if (dilated == reconstruction).all():\n",
    "            return reconstruction\n",
    "        reconstruction = dilated\n",
    "\n",
    "kernel_size=15\n",
    "kernel_type='square'\n",
    "\n",
    "kernel = np.ones((kernel_size, kernel_size), np.uint8)"
   ]
  },
  {
   "cell_type": "markdown",
   "metadata": {},
   "source": [
    "### Download data"
   ]
  },
  {
   "cell_type": "code",
   "execution_count": null,
   "metadata": {},
   "outputs": [],
   "source": [
    "from matplotlib import pyplot\n",
    "import rasterio\n",
    "from rasterio.plot import show\n",
    "\n",
    "!mkdir -p data\n",
    "for pair in [\"pre\", \"post\"]:\n",
    "    for mod in [\"img\", \"color\"]:\n",
    "        for idx in range(2):\n",
    "            for ext in [\".geom\", \".tif\"]:\n",
    "                filename = \"data/\"+pair+\"_event_\"+mod+str(idx+1)+ext\n",
    "                if os.path.exists(filename) is False:\n",
    "                    filename = \"https://raw.githubusercontent.com/cars-cnes/change-detection-for-natural-disaster-response/main/\"+filename\n",
    "                    !wget {filename} -P data/"
   ]
  },
  {
   "cell_type": "code",
   "execution_count": null,
   "metadata": {},
   "outputs": [],
   "source": [
    "fig, axs = pyplot.subplots(2, 2, figsize=(10,10))\n",
    "\n",
    "for idx1, pair in enumerate([\"pre\", \"post\"]):\n",
    "    for idx2 in range(2):\n",
    "        with rasterio.open(\"data/\"+pair+\"_event_img\"+str(idx2+1)+\".tif\") as src:\n",
    "            show((src), ax=axs[idx1, idx2], cmap='gray', title=pair+\"-event \"+str(idx2+1))"
   ]
  },
  {
   "cell_type": "markdown",
   "metadata": {},
   "source": [
    "## Generate Digital Surface Models from sets of stereo satellite images\n",
    "using the CARS 3D reconstruction library : https://github.com/CNES/cars\n"
   ]
  },
  {
   "cell_type": "markdown",
   "metadata": {},
   "source": [
    "### Create your configuration file"
   ]
  },
  {
   "cell_type": "markdown",
   "metadata": {},
   "source": [
    "CARS minimal configuration"
   ]
  },
  {
   "cell_type": "code",
   "execution_count": null,
   "metadata": {},
   "outputs": [],
   "source": [
    "sensors = dict()\n",
    "sensors[\"pre1\"] = {\"image\": \"data/pre_event_img1.tif\",\n",
    "                   \"geomodel\": \"data/pre_event_img1.geom\"}\n",
    "sensors[\"pre2\"] = {\"image\": \"data/pre_event_img2.tif\",\n",
    "                   \"geomodel\": \"data/pre_event_img2.geom\"}\n",
    "\n",
    "pairing = list()\n",
    "pairing.append([\"pre1\", \"pre2\"])\n",
    "\n",
    "inputs = {\"sensors\": sensors, \"pairing\": pairing}\n",
    "\n",
    "config = {}\n",
    "config[\"inputs\"] = inputs\n",
    "config[\"output\"] = {\"out_dir\": \"outresults/dsmpre\"}"
   ]
  },
  {
   "cell_type": "markdown",
   "metadata": {},
   "source": [
    "Adding colors for True Ortho"
   ]
  },
  {
   "cell_type": "code",
   "execution_count": null,
   "metadata": {},
   "outputs": [],
   "source": [
    "config[\"inputs\"][\"sensors\"][\"pre1\"][\"color\"] = \"data/pre_event_color1.tif\"\n",
    "config[\"inputs\"][\"sensors\"][\"pre2\"][\"color\"] = \"data/pre_event_color2.tif\""
   ]
  },
  {
   "cell_type": "markdown",
   "metadata": {},
   "source": [
    "Adding ROI"
   ]
  },
  {
   "cell_type": "code",
   "execution_count": null,
   "metadata": {},
   "outputs": [],
   "source": [
    "config[\"inputs\"][\"roi\"] = {\"type\": \"FeatureCollection\",\n",
    "                           \"features\": [{\"type\": \"Feature\", \"properties\": {},\n",
    "                                         \"geometry\": {\"coordinates\":\n",
    "                                                      [[[36.905, 37.588],\n",
    "                                                        [36.905, 37.581],\n",
    "                                                        [36.913, 37.581],\n",
    "                                                        [36.913, 37.588],\n",
    "                                                        [36.905, 37.588]]],\n",
    "                                                      \"type\": \"Polygon\"}}]}"
   ]
  },
  {
   "cell_type": "markdown",
   "metadata": {},
   "source": [
    "Saving the epipolar images"
   ]
  },
  {
   "cell_type": "code",
   "execution_count": null,
   "metadata": {},
   "outputs": [],
   "source": [
    "config[\"applications\"] = {}\n",
    "config[\"applications\"][\"resampling\"] = {\"save_epipolar_image\": True}"
   ]
  },
  {
   "cell_type": "markdown",
   "metadata": {},
   "source": [
    "Saving correlator confidence"
   ]
  },
  {
   "cell_type": "code",
   "execution_count": null,
   "metadata": {},
   "outputs": [],
   "source": [
    "config[\"applications\"][\"point_cloud_rasterization\"] = {\"save_confidence\": True}"
   ]
  },
  {
   "cell_type": "markdown",
   "metadata": {},
   "source": [
    "### Launch CARS - Python API"
   ]
  },
  {
   "cell_type": "code",
   "execution_count": null,
   "metadata": {},
   "outputs": [],
   "source": [
    "import os\n",
    "from cars.pipelines.pipeline import Pipeline\n",
    "\n",
    "pipeline = Pipeline(\"sensors_to_dense_dsm\", config, os.getcwd())\n",
    "pipeline.run()"
   ]
  },
  {
   "cell_type": "markdown",
   "metadata": {},
   "source": [
    "### Let's see the results"
   ]
  },
  {
   "cell_type": "markdown",
   "metadata": {},
   "source": [
    "#### Open & format output data"
   ]
  },
  {
   "cell_type": "code",
   "execution_count": null,
   "metadata": {},
   "outputs": [],
   "source": [
    "import rasterio\n",
    "import numpy as np\n",
    "\n",
    "with rasterio.open('outresults/dsmpre/dsm.tif') as dsm_reader:\n",
    "  altitudes = dsm_reader.read(1)\n",
    "  transform = dsm_reader.transform\n",
    "  width, height = dsm_reader.width, dsm_reader.height\n",
    "  cols, rows = np.meshgrid(np.arange(width), np.arange(height))\n",
    "\n",
    "  # get coordinates to plot points cloud\n",
    "  x_coords, y_coords = rasterio.transform.xy(transform, rows, cols, offset='center')\n",
    "  x_coords = np.ravel(x_coords).T\n",
    "  y_coords = np.ravel(y_coords).T\n",
    "  z_coords = altitudes.reshape(-1).T\n",
    "\n",
    "  nodata = dsm_reader.nodata\n",
    "\n",
    "with rasterio.open('outresults/dsmpre/clr.tif') as clr_reader:\n",
    "  pre_event_colors = clr_reader.read().astype(float)\n",
    "  pre_event_colors = pre_event_colors[:3,:,:].transpose(1,2,0)\n",
    "\n",
    "# stack coords as points cloud\n",
    "cloud = np.stack((x_coords, y_coords, z_coords), axis=1)\n",
    "valid = cloud[:, 2] != nodata\n",
    "cloud = cloud[valid]\n",
    "\n",
    "# remove nodata altitudes\n",
    "altitudes[altitudes==nodata] = np.nan"
   ]
  },
  {
   "cell_type": "markdown",
   "metadata": {},
   "source": [
    "#### Check epipolar images"
   ]
  },
  {
   "cell_type": "code",
   "execution_count": null,
   "metadata": {},
   "outputs": [],
   "source": [
    "epi_img_left_path = \"outresults/dsmpre/pre1_pre2/epi_img_left.tif\"\n",
    "epi_img_right_path = \"outresults/dsmpre/pre1_pre2/epi_img_right.tif\"\n",
    "\n",
    "epi_img_left = rasterio.open(epi_img_left_path).read(1)\n",
    "epi_img_right = rasterio.open(epi_img_right_path).read(1)\n",
    "\n",
    "fig1, (ax1, ax2) = pyplot.subplots(1,2, sharex=True, sharey=True,  figsize=(15,9))\n",
    "ax1.imshow(normalize(epi_img_left), cmap='gray')\n",
    "ax2.imshow(normalize(epi_img_right), cmap='gray')\n",
    "ax1.set_title('left-epipolar image', fontsize=15)\n",
    "ax2.set_title('right-epipolar image', fontsize=15)\n",
    "ax1.plot([0, epi_img_right.shape[0]], [240,240], color=\"red\", linewidth=2)\n",
    "ax2.plot([0, epi_img_right.shape[0]], [240,240], color=\"red\", linewidth=2)\n",
    "pyplot.show()"
   ]
  },
  {
   "cell_type": "markdown",
   "metadata": {},
   "source": [
    "#### Results visualization (2D)"
   ]
  },
  {
   "cell_type": "code",
   "execution_count": null,
   "metadata": {},
   "outputs": [],
   "source": [
    "fig, (ax1, ax2) = pyplot.subplots(nrows=1, ncols=2, figsize=(15, 9),\n",
    "                              constrained_layout=True)\n",
    "\n",
    "fig.suptitle(\"Altitudes and Colors as images\", fontsize=15)\n",
    "im1 = ax1.imshow(altitudes, cmap='jet', aspect=\"auto\")\n",
    "ax1.axis('off')\n",
    "ax1.set_title('altitudes', fontsize=15)\n",
    "ax2.imshow(normalize(pre_event_colors), aspect=\"auto\")\n",
    "ax2.axis('off')\n",
    "ax2.set_title('colors', fontsize=15)\n",
    "fig.colorbar(im1, ax=ax1, shrink=0.7, aspect=30, orientation=\"horizontal\", label=\"meters\")\n",
    "pyplot.show()"
   ]
  },
  {
   "cell_type": "markdown",
   "metadata": {},
   "source": [
    "#### Visualize correlator confidence"
   ]
  },
  {
   "cell_type": "code",
   "execution_count": null,
   "metadata": {},
   "outputs": [],
   "source": [
    "confidence_path = \"outresults/dsmpre/confidence_from_ambiguity.tif\"\n",
    "\n",
    "confidence_pre_event = rasterio.open(confidence_path).read(1)\n",
    "pyplot.figure(figsize = (15, 9))\n",
    "pyplot.imshow(np.where(confidence_pre_event==255, np.nan, confidence_pre_event), cmap='viridis') # nodata value for confidence = 255\n",
    "pyplot.title(\"Confidence pre-event\")\n",
    "pyplot.show()"
   ]
  },
  {
   "cell_type": "markdown",
   "metadata": {},
   "source": [
    "#### Scatter (3D)"
   ]
  },
  {
   "cell_type": "code",
   "execution_count": null,
   "metadata": {},
   "outputs": [],
   "source": [
    "import plotly.graph_objects as go\n",
    "\n",
    "inds = np.random.choice(range(cloud.shape[0]), 20000)\n",
    "x = cloud[inds, 0]\n",
    "y = cloud[inds, 1]\n",
    "z = cloud[inds, 2]\n",
    "\n",
    "layout = go.Layout(scene=dict(aspectmode=\"data\"),\n",
    "                   height=600, width=1200,\n",
    "                   title=go.layout.Title(text=\"Points Cloud Viewer\"))\n",
    "fig = go.Figure(data=[go.Scatter3d(x=x, y=y, z=z,\n",
    "                                   mode='markers',\n",
    "                                   marker=dict(\n",
    "                                   size=2.5,\n",
    "                                   color=z,\n",
    "                                   colorscale='jet'))],\n",
    "                layout=layout)\n",
    "fig.show()"
   ]
  },
  {
   "cell_type": "markdown",
   "metadata": {},
   "source": [
    "### Create your second configuration file"
   ]
  },
  {
   "cell_type": "code",
   "execution_count": null,
   "metadata": {},
   "outputs": [],
   "source": [
    "import json\n",
    "from cars.pipelines.pipeline import Pipeline\n",
    "\n",
    "sensors = dict()\n",
    "sensors[\"post1\"] = {\"image\": \"data/post_event_img1.tif\",\n",
    "                   \"geomodel\": \"data/post_event_img1.geom\",\n",
    "                   \"color\": \"data/post_event_color1.tif\"}\n",
    "sensors[\"post2\"] = {\"image\": \"data/post_event_img2.tif\",\n",
    "                   \"geomodel\": \"data/post_event_img2.geom\",\n",
    "                   \"color\": \"data/post_event_color2.tif\"}\n",
    "\n",
    "pairing = list()\n",
    "pairing.append([\"post1\", \"post2\"])\n",
    "\n",
    "inputs = {\"sensors\": sensors, \"pairing\": pairing}\n",
    "\n",
    "config = {}\n",
    "config[\"inputs\"] = inputs\n",
    "config[\"output\"] = {\"out_dir\": \"outresults/dsmpost\"}\n",
    "config[\"inputs\"][\"roi\"] = {\"type\": \"FeatureCollection\",\n",
    "                           \"features\": [{\"type\": \"Feature\", \"properties\": {},\n",
    "                                         \"geometry\": {\"coordinates\":\n",
    "                                                      [[[36.905, 37.588],\n",
    "                                                        [36.905, 37.581],\n",
    "                                                        [36.913, 37.581],\n",
    "                                                        [36.913, 37.588],\n",
    "                                                        [36.905, 37.588]]],\n",
    "                                                      \"type\": \"Polygon\"}}]}\n",
    "config[\"applications\"] = {}\n",
    "config[\"applications\"][\"point_cloud_rasterization\"] = {\"save_confidence\": True}\n",
    "config[\"applications\"][\"resampling\"] = {\"save_epipolar_image\": True}\n",
    "\n",
    "with open(\"config.json\", \"w\") as f:\n",
    "    json.dump(config, f, indent=2)"
   ]
  },
  {
   "cell_type": "code",
   "execution_count": null,
   "metadata": {},
   "outputs": [],
   "source": [
    "!cat config.json"
   ]
  },
  {
   "cell_type": "markdown",
   "metadata": {},
   "source": [
    "### Launch CARS - Command line"
   ]
  },
  {
   "cell_type": "code",
   "execution_count": null,
   "metadata": {},
   "outputs": [],
   "source": [
    "!cars config.json"
   ]
  },
  {
   "cell_type": "markdown",
   "metadata": {},
   "source": [
    "## Extract the Digital Terrain Models from Digital Surface Models through the Bulldozer library\n",
    "and derive a final Digital Height Model based on the obtained results : https://github.com/cnes/bulldozer\n"
   ]
  },
  {
   "cell_type": "markdown",
   "metadata": {},
   "source": [
    "### Launch Bulldozer - Python API"
   ]
  },
  {
   "cell_type": "code",
   "execution_count": null,
   "metadata": {},
   "outputs": [],
   "source": [
    "from bulldozer.pipeline.bulldozer_pipeline import dsm_to_dtm\n",
    "\n",
    "dsm_to_dtm(dsm_path=\"outresults/dsmpre/dsm.tif\",\n",
    "           output_dir=\"outresults/dtmpre\",\n",
    "           nb_max_workers=1,\n",
    "           uniform_filter_size=3)"
   ]
  },
  {
   "cell_type": "markdown",
   "metadata": {},
   "source": [
    "### Launch Bulldozer - Command line"
   ]
  },
  {
   "cell_type": "code",
   "execution_count": null,
   "metadata": {},
   "outputs": [],
   "source": [
    "import yaml\n",
    "config = {\"dsm_path\": \"outresults/dsmpost/dsm.tif\",\n",
    "           \"output_dir\": \"outresults/dtmpost\",\n",
    "           \"nb_max_workers\": 1,\n",
    "           \"uniform_filter_size\": 3}\n",
    "\n",
    "with open(\"config.yml\", \"w\") as f:\n",
    "    yaml.dump(config, f)"
   ]
  },
  {
   "cell_type": "code",
   "execution_count": null,
   "metadata": {},
   "outputs": [],
   "source": [
    "!cat config.yml"
   ]
  },
  {
   "cell_type": "code",
   "execution_count": null,
   "metadata": {},
   "outputs": [],
   "source": [
    "!bulldozer --conf config.yml"
   ]
  },
  {
   "cell_type": "markdown",
   "metadata": {},
   "source": [
    "### Let's see the results"
   ]
  },
  {
   "cell_type": "markdown",
   "metadata": {},
   "source": [
    "#### DSM, DTM, DHM profiles"
   ]
  },
  {
   "cell_type": "code",
   "execution_count": null,
   "metadata": {},
   "outputs": [],
   "source": [
    "row_number = 600\n",
    "start_col = 300\n",
    "end_col = 1300\n",
    "pair = \"pre\"\n",
    "\n",
    "from rasterio.windows import Window\n",
    "fig, axs = pyplot.subplots(3, 3, figsize=(20, 20))\n",
    "\n",
    "gs = axs[1, 0].get_gridspec()\n",
    "\n",
    "for ax in axs[1, 0:]:\n",
    "    ax.remove()\n",
    "\n",
    "for ax in axs[2, 0:]:\n",
    "    ax.remove()\n",
    "\n",
    "axdstm = fig.add_subplot(gs[1, 0:])\n",
    "axdhm = fig.add_subplot(gs[2, 0:])\n",
    "\n",
    "for idx, out in enumerate([\"dsm\"+pair+\"/dsm.tif\", \"dtm\"+pair+\"/DTM.tif\", \"dtm\"+pair+\"/DHM.tif\"]):\n",
    "    with rasterio.open(os.path.join(\"outresults\", out)) as src:\n",
    "        axs[0, idx].plot([start_col, end_col], [row_number, row_number],\n",
    "                         color=\"red\", linewidth=4)\n",
    "        profiley = np.ravel(src.read(1, window=Window(start_col, row_number, end_col-start_col, 1)))\n",
    "        profilex = np.arange(len(profiley))\n",
    "        profilex = profilex[profiley!=src.nodata]\n",
    "        profiley = profiley[profiley!=src.nodata]\n",
    "\n",
    "        if os.path.basename(out) != \"DHM.tif\":\n",
    "            axdstm.plot(profilex, profiley, label=os.path.basename(out).lower())\n",
    "        else:\n",
    "            axdhm.plot(profilex, profiley, label=os.path.basename(out).lower())\n",
    "\n",
    "        array = src.read(1)\n",
    "        array[array==src.nodata] = np.nan\n",
    "        axs[0, idx].imshow(array, cmap='gray')\n",
    "        axs[0, idx].set_title(os.path.basename(out).lower())\n",
    "\n",
    "axdstm.legend()\n",
    "axdhm.legend()\n",
    "pyplot.show()"
   ]
  },
  {
   "cell_type": "markdown",
   "metadata": {},
   "source": [
    "## Extract semantic information from the 2D imagery: Building detection\n",
    "by using classification models and spectral indices"
   ]
  },
  {
   "cell_type": "markdown",
   "metadata": {},
   "source": [
    "### Download weights for building detection"
   ]
  },
  {
   "cell_type": "code",
   "execution_count": null,
   "metadata": {},
   "outputs": [],
   "source": [
    "if os.path.isfile(\"weights.ckpt\") is False:\n",
    "    !gdown https://drive.google.com/uc?id=1n1olMUY3ycx48YRZ7ZG-ME63cNjnRBtc"
   ]
  },
  {
   "cell_type": "markdown",
   "metadata": {},
   "source": [
    "### Launch inference"
   ]
  },
  {
   "cell_type": "code",
   "execution_count": null,
   "metadata": {},
   "outputs": [],
   "source": [
    "if os.path.isdir(\"building_detection\") is False:\n",
    "    !mkdir building_detection\n",
    "    !wget https://raw.githubusercontent.com/cars-cnes/change-detection-for-natural-disaster-response/main/building_detection/__init__.py -P building_detection\n",
    "\n",
    "import building_detection\n",
    "for pair in [\"pre\", \"post\"]:\n",
    "    for idx in range(2):\n",
    "        img = \"data/\"+pair+\"_event_color\"+str(idx+1)+\".tif\"\n",
    "        with rasterio.open(img) as src:\n",
    "            __, mask = building_detection.run(img, \"weights.ckpt\")\n",
    "            profile = src.profile\n",
    "            profile.update(\n",
    "                dtype=rasterio.uint8,\n",
    "                count=1,\n",
    "                compress='lzw')\n",
    "            with rasterio.open(\"outresults/buildings\"+pair+str(idx+1)+\".tif\", 'w', nbits=1, **profile) as dst:\n",
    "                dst.write((mask>0.5).astype(rasterio.uint8), 1)"
   ]
  },
  {
   "cell_type": "markdown",
   "metadata": {},
   "source": [
    "### Let's see the results"
   ]
  },
  {
   "cell_type": "code",
   "execution_count": null,
   "metadata": {},
   "outputs": [],
   "source": [
    "fig, axs = pyplot.subplots(2, 4, figsize=(20,10))\n",
    "for idx1, pair in enumerate([\"pre\", \"post\"]):\n",
    "    for idx2 in range(2):\n",
    "        with rasterio.open(\"data/\"+pair+\"_event_color\"+str(idx2+1)+\".tif\") as img, \\\n",
    "        rasterio.open(\"outresults/buildings\"+pair+str(idx1+1)+\".tif\") as bld:\n",
    "            show(normalize(img.read([1,2,3])/2**12), ax=axs[idx1, 2*idx2], title=pair+\"-event \"+str(idx2+1))\n",
    "            show(bld, ax=axs[idx1, 2*idx2+1], title=\"buildings \\n\"+pair+\"-event \"+str(idx2+1))"
   ]
  },
  {
   "cell_type": "markdown",
   "metadata": {},
   "source": [
    "### Project the masks in terrain geometry"
   ]
  },
  {
   "cell_type": "code",
   "execution_count": null,
   "metadata": {},
   "outputs": [],
   "source": [
    "from rasterio import features\n",
    "from shapely.geometry import Polygon\n",
    "import geopandas as gpd\n",
    "import pandas as pd\n",
    "\n",
    "from shareloc.geofunctions import localization\n",
    "from shareloc.image import Image\n",
    "from shareloc.geomodels.geomodel import GeoModel\n",
    "\n",
    "def polygonize(img):\n",
    "    with rasterio.open(img) as src:\n",
    "        mask = src.read(1)\n",
    "        shapes = features.shapes(mask, mask=mask)\n",
    "    fc = ({\"geometry\": shape, \"properties\": {\"value\": value}} for shape, value in shapes)\n",
    "    return gpd.GeoDataFrame.from_features(fc)\n",
    "\n",
    "def dsm_to_height_map(dsm, img):\n",
    "    model = os.path.splitext(img)[0]+\".geom\"\n",
    "    simage = Image(img, vertical_direction=\"north\")\n",
    "    smodel = GeoModel(model, \"RPC\")\n",
    "\n",
    "    with rasterio.open(dsm) as src:\n",
    "        crs = src.crs\n",
    "        loc = localization.Localization(smodel, image=simage, epsg=crs.to_epsg())\n",
    "        heights = src.read(1)\n",
    "        cols, rows = np.meshgrid(np.arange(heights.shape[1]), np.arange(heights.shape[0]))\n",
    "        xs, ys = rasterio.transform.xy(src.transform, rows, cols)\n",
    "        pc = np.stack((np.array(xs), np.array(ys), np.array(heights)))\n",
    "        pc = pc.reshape(3, -1).T\n",
    "        pc = pc[pc[:, 2] != src.nodata]\n",
    "\n",
    "    xyz = loc.inverse(pc[:, 0], pc[:, 1], pc[:, 2], using_geotransform=True)\n",
    "    height_map = gpd.GeoDataFrame(pd.DataFrame({\"height\": xyz[2]}),\n",
    "                                  geometry=gpd.points_from_xy(x=xyz[1], y=xyz[0]))\n",
    "    return loc, crs, height_map\n",
    "\n",
    "def set_altitude_to_polygons(polygons, height_map, loc, crs):\n",
    "    height_map_join = gpd.sjoin(height_map, polygons, how=\"left\")\n",
    "    polygons_stats = height_map_join.groupby('index_right')['height'].agg(['mean','std','max','min'])\n",
    "    polygons_with_alt = pd.merge(polygons, polygons_stats, left_index=True, right_index=True,how='outer')\n",
    "    polygons_with_alt = polygons_with_alt.dropna()\n",
    "\n",
    "    def project_polygon(poly, height):\n",
    "        xx, yy = poly.exterior.coords.xy\n",
    "        xyz = loc.direct(np.array(yy), np.array(xx), height, using_geotransform=True)\n",
    "        xx = xyz[:, 0]\n",
    "        yy = xyz[:, 1]\n",
    "        return Polygon(zip(xx,yy))\n",
    "\n",
    "    polygons_with_alt[\"geometry\"] = polygons_with_alt.apply(lambda row : project_polygon(row[\"geometry\"], row[\"mean\"]), axis=1)\n",
    "    polygons_with_alt.set_crs(crs)\n",
    "    return polygons_with_alt\n",
    "\n",
    "def burn_polygons(dsm, polygons, out):\n",
    "  with rasterio.open(dsm) as src:\n",
    "    profile = src.profile\n",
    "    profile[\"dtype\"] = rasterio.uint8\n",
    "    profile[\"nbits\"] = 1\n",
    "    del profile[\"nodata\"]\n",
    "    with rasterio.open(out, 'w', **profile) as dst:\n",
    "      image = features.rasterize(((g, 255) for g in polygons[\"geometry\"]), transform=profile[\"transform\"], out_shape=src.shape)\n",
    "      dst.write(image, indexes=1)\n",
    "\n",
    "fig, axs = pyplot.subplots(2, 2, figsize=(15,15))\n",
    "for idx1, pair in enumerate([\"pre\", \"post\"]):\n",
    "    dsm = \"outresults/dsm\"+pair+\"/dsm.tif\"\n",
    "    for idx2 in range(2):\n",
    "        msk = \"outresults/buildings\"+pair+str(idx2+1)+\".tif\"\n",
    "        img = \"data/\"+pair+\"_event_img\"+str(idx2+1)+\".tif\"\n",
    "        vectmsk = \"outresults/geobuildings\"+pair+str(idx2+1)+\".shp\"\n",
    "        rastmsk = \"outresults/geobuildings\"+pair+str(idx2+1)+\".tif\"\n",
    "        buildings = polygonize(msk)\n",
    "        loc, crs, height_map = dsm_to_height_map(dsm, img)\n",
    "        buildings_with_alt = set_altitude_to_polygons(buildings, height_map, loc, crs)\n",
    "        buildings_with_alt.to_file(vectmsk)\n",
    "        burn_polygons(dsm, buildings_with_alt, rastmsk)\n",
    "        ax = axs[idx1, idx2]\n",
    "        with rasterio.open(dsm) as raster:\n",
    "            show(raster, ax=ax, title=pair+\"-event \"+str(idx2+1))\n",
    "            buildings_with_alt.plot(ax=ax, facecolor='none', edgecolor='red')\n"
   ]
  },
  {
   "cell_type": "markdown",
   "metadata": {},
   "source": [
    "## Change detection"
   ]
  },
  {
   "cell_type": "markdown",
   "metadata": {},
   "source": [
    "### 2D Change detection"
   ]
  },
  {
   "cell_type": "markdown",
   "metadata": {},
   "source": [
    "#### Raw 2D change detection"
   ]
  },
  {
   "cell_type": "code",
   "execution_count": null,
   "metadata": {},
   "outputs": [],
   "source": [
    "buildings_pre_event_path_1 = \"outresults/geobuildingspre1.tif\"\n",
    "buildings_pre_event_path_2 = \"outresults/geobuildingspre2.tif\"\n",
    "\n",
    "buildings_pre_event_1 = rasterio.open(buildings_pre_event_path_1).read(1)\n",
    "buildings_pre_event_2 = rasterio.open(buildings_pre_event_path_2).read(1)\n",
    "buildings_pre_event_merged = np.logical_or(buildings_pre_event_1, buildings_pre_event_2)\n",
    "\n",
    "buildings_post_event_path_1 = \"outresults/geobuildingspost1.tif\"\n",
    "buildings_post_event_path_2 = \"outresults/geobuildingspost2.tif\"\n",
    "\n",
    "buildings_post_event_1 = rasterio.open(buildings_post_event_path_1).read(1)\n",
    "buildings_post_event_2 = rasterio.open(buildings_post_event_path_2).read(1)\n",
    "buildings_post_event_merged = np.logical_or(buildings_post_event_1, buildings_post_event_2)\n",
    "\n",
    "fig1, (ax1, ax2) = pyplot.subplots(1,2, sharex=True, sharey=True,  figsize=(15,9))\n",
    "ax1.imshow(buildings_pre_event_merged)\n",
    "ax2.imshow(buildings_post_event_merged)\n",
    "\n",
    "ax1.title.set_text('Building detection pre-event')\n",
    "ax2.title.set_text('Building detection  post-event')\n",
    "pyplot.show()"
   ]
  },
  {
   "cell_type": "code",
   "execution_count": null,
   "metadata": {},
   "outputs": [],
   "source": [
    "pyplot.figure(figsize = (15, 9))\n",
    "raw_diff_2D = np.logical_and(buildings_pre_event_merged, np.logical_not(buildings_post_event_merged))\n",
    "pyplot.imshow(raw_diff_2D)\n",
    "pyplot.title(\"Raw 2D change detection\")\n",
    "pyplot.show()"
   ]
  },
  {
   "cell_type": "markdown",
   "metadata": {},
   "source": [
    "#### Refinement"
   ]
  },
  {
   "cell_type": "code",
   "execution_count": null,
   "metadata": {},
   "outputs": [],
   "source": [
    "refined_2D_diff = opening_by_reconstruction(raw_diff_2D.astype(np.uint8), kernel).astype(bool)\n",
    "# Small object filter (>~12m²)\n",
    "refined_2D_diff = morphology.remove_small_objects(refined_2D_diff.astype(bool), 500)\n",
    "\n",
    "pyplot.figure(figsize = (15, 9))\n",
    "pyplot.imshow(refined_2D_diff)\n",
    "pyplot.title(\"Refined 2D change detection (morphologic filter)\")\n",
    "pyplot.show()"
   ]
  },
  {
   "cell_type": "markdown",
   "metadata": {},
   "source": [
    "#### 2D change detection visualization"
   ]
  },
  {
   "cell_type": "code",
   "execution_count": null,
   "metadata": {},
   "outputs": [],
   "source": [
    "fig1, (ax1, ax2, ax3) = pyplot.subplots(1,3, sharex=True, sharey=True,  figsize=(25,9))\n",
    "# pre-event\n",
    "ax1.imshow(normalize(pre_event_colors))\n",
    "# post-event\n",
    "color_path_post_event = \"outresults/dsmpost/clr.tif\"\n",
    "post_event_colors = rasterio.open(color_path_post_event).read()[:3,:,:].transpose(1,2,0)\n",
    "post_event_colors = normalize(post_event_colors)\n",
    "ax2.imshow(post_event_colors)\n",
    "# 2D change detection\n",
    "post_event_colors[refined_2D_diff, 0] = 255\n",
    "post_event_colors[refined_2D_diff, 1:] = 0\n",
    "ax3.imshow(post_event_colors)\n",
    "\n",
    "ax1.title.set_text('True ortho pre-event')\n",
    "ax2.title.set_text('True ortho post-event')\n",
    "ax3.title.set_text('True ortho post-event + 2D change labels')\n",
    "pyplot.show()"
   ]
  },
  {
   "cell_type": "markdown",
   "metadata": {},
   "source": [
    "### 3D Change detection"
   ]
  },
  {
   "cell_type": "markdown",
   "metadata": {},
   "source": [
    "#### Raw difference"
   ]
  },
  {
   "cell_type": "code",
   "execution_count": null,
   "metadata": {},
   "outputs": [],
   "source": [
    "dsm_pre_event_path = \"outresults/dsmpre/dsm.tif\"\n",
    "dsm_post_event_path = \"outresults/dsmpost/dsm.tif\"\n",
    "dsm_pre_event = rasterio.open(dsm_pre_event_path).read(1)\n",
    "dsm_post_event = rasterio.open(dsm_post_event_path).read(1)\n",
    "\n",
    "fig1, (ax1, ax2) = pyplot.subplots(1,2, sharex=True, sharey=True,  figsize=(15,9))\n",
    "ax1.imshow(np.where(dsm_pre_event==nodata, np.nan, dsm_pre_event), cmap='viridis')\n",
    "ax2.imshow(np.where(dsm_post_event==nodata, np.nan, dsm_post_event), cmap='viridis')\n",
    "\n",
    "ax1.title.set_text('DSM pre-event')\n",
    "ax2.title.set_text('DSM post-event')\n",
    "pyplot.show()\n"
   ]
  },
  {
   "cell_type": "code",
   "execution_count": null,
   "metadata": {},
   "outputs": [],
   "source": [
    "raw_diff_3D = dsm_post_event - dsm_pre_event\n",
    "raw_diff_3D[np.logical_or(dsm_pre_event == nodata, dsm_post_event == nodata)] = nodata\n",
    "pyplot.figure(figsize = (15, 9))\n",
    "pyplot.imshow(np.where(raw_diff_3D==nodata, np.nan, raw_diff_3D), cmap='viridis')\n",
    "pyplot.title(\"Raw 3D difference\")\n",
    "pyplot.show()\n"
   ]
  },
  {
   "cell_type": "code",
   "execution_count": null,
   "metadata": {},
   "outputs": [],
   "source": [
    "pyplot.figure(figsize = (15, 9))\n",
    "pyplot.imshow(np.where(np.logical_or(raw_diff_3D==nodata, raw_diff_3D > 0), 0, 1), cmap='viridis')\n",
    "pyplot.title(\"Raw binary 3D destruction (difference < 0m)\")\n",
    "pyplot.show()"
   ]
  },
  {
   "cell_type": "markdown",
   "metadata": {},
   "source": [
    "#### Detection refinement"
   ]
  },
  {
   "cell_type": "markdown",
   "metadata": {},
   "source": [
    "Altimetric filter"
   ]
  },
  {
   "cell_type": "code",
   "execution_count": null,
   "metadata": {},
   "outputs": [],
   "source": [
    "refined_3D_diff = raw_diff_3D.copy()\n",
    "# Altimetric filter\n",
    "altimetric_resolution = 2 * 0.5 # altimetric_resolution in meter. We approximate the altimetric resolution as = 2*plannimetric_resolution\n",
    "z_treshold = 2 * altimetric_resolution\n",
    "refined_3D_diff[raw_diff_3D > -z_treshold] = nodata\n",
    "\n",
    "#Binarization\n",
    "bin_refined_3D_diff = np.full((raw_diff_3D.shape[0], raw_diff_3D.shape[1]), False)\n",
    "bin_refined_3D_diff[refined_3D_diff != nodata] = 1\n",
    "bin_refined_3D_diff[refined_3D_diff == nodata] = 0\n",
    "\n",
    "pyplot.figure(figsize = (15, 9))\n",
    "pyplot.imshow(bin_refined_3D_diff)\n",
    "pyplot.title(\"Filtered binary difference (altimetric filter)\")\n",
    "pyplot.show()"
   ]
  },
  {
   "cell_type": "markdown",
   "metadata": {},
   "source": [
    "Vegetation filter"
   ]
  },
  {
   "cell_type": "code",
   "execution_count": null,
   "metadata": {},
   "outputs": [],
   "source": [
    "# Vegetation filter (NDVI)\n",
    "color_path_pre_event = \"outresults/dsmpre/clr.tif\"\n",
    "color_path_post_event = \"outresults/dsmpost/clr.tif\"\n",
    "\n",
    "ndvi_threshold = 0.4\n",
    "\n",
    "# ignore divide warning in NDVI computation\n",
    "np.seterr(divide='ignore', invalid='ignore')\n",
    "\n",
    "# Pre-event filtering\n",
    "with rasterio.open(color_path_pre_event) as color_pre_event_dataset:\n",
    "    color = color_pre_event_dataset.read()\n",
    "    ndvi = (color[3,:,:] - color[2, :,:])/(color[3,:,:] + color[2,:,:])\n",
    "    bin_refined_3D_diff[ndvi > ndvi_threshold] = 0\n",
    "\n",
    "# Post-event filtering\n",
    "with rasterio.open(color_path_post_event) as color_post_event_dataset:\n",
    "    color = color_post_event_dataset.read()\n",
    "    ndvi = (color[3,:,:] - color[2, :,:])/(color[3,:,:] + color[2,:,:])\n",
    "    bin_refined_3D_diff[ndvi > ndvi_threshold] = 0\n",
    "\n",
    "pyplot.figure(figsize = (15, 9))\n",
    "pyplot.imshow(bin_refined_3D_diff)\n",
    "pyplot.title(\"Filtered binary difference (altimetric+vegetation filters)\")\n",
    "pyplot.show()"
   ]
  },
  {
   "cell_type": "markdown",
   "metadata": {},
   "source": [
    "Confidence filter\n"
   ]
  },
  {
   "cell_type": "code",
   "execution_count": null,
   "metadata": {},
   "outputs": [],
   "source": [
    "# confidence filter\n",
    "confidence_path_pre_event = \"outresults/dsmpre/confidence_from_ambiguity.tif\"\n",
    "confidence_path_post_event = \"outresults/dsmpost/confidence_from_ambiguity.tif\"\n",
    "\n",
    "confidence_threshold = 0.6\n",
    "\n",
    "# Pre-event filtering\n",
    "with rasterio.open(confidence_path_pre_event) as confidence_pre_event_dataset:\n",
    "    confidence = confidence_pre_event_dataset.read(1)\n",
    "    bin_refined_3D_diff[confidence < confidence_threshold] = 0\n",
    "\n",
    "# Post-event filtering\n",
    "with rasterio.open(confidence_path_post_event) as confidence_post_event_dataset:\n",
    "    confidence = confidence_post_event_dataset.read(1)\n",
    "    bin_refined_3D_diff[confidence < confidence_threshold] = 0\n",
    "\n",
    "pyplot.figure(figsize = (15, 9))\n",
    "pyplot.imshow(bin_refined_3D_diff)\n",
    "pyplot.title(\"Filtered binary difference (altimetric+vegetation+confidence filters)\")\n",
    "pyplot.show()"
   ]
  },
  {
   "cell_type": "markdown",
   "metadata": {},
   "source": [
    "Morphologic filter\n"
   ]
  },
  {
   "cell_type": "code",
   "execution_count": null,
   "metadata": {},
   "outputs": [],
   "source": [
    "bin_refined_3D_diff = opening_by_reconstruction(bin_refined_3D_diff.astype(np.uint8), kernel)\n",
    "# Small object filter (>~12m²)\n",
    "bin_refined_3D_diff = morphology.remove_small_objects(bin_refined_3D_diff.astype(bool), 500)\n",
    "\n",
    "pyplot.figure(figsize = (15, 9))\n",
    "pyplot.imshow(bin_refined_3D_diff)\n",
    "pyplot.title(\"Filtered binary difference (altimetric+vegetation+confidence+morphologic filters)\")\n",
    "pyplot.show()"
   ]
  },
  {
   "cell_type": "markdown",
   "metadata": {},
   "source": [
    "3D Change detection visualization"
   ]
  },
  {
   "cell_type": "code",
   "execution_count": null,
   "metadata": {},
   "outputs": [],
   "source": [
    "fig1, (ax1, ax2, ax3) = pyplot.subplots(1,3, sharex=True, sharey=True,  figsize=(25,9))\n",
    "# pre-event\n",
    "ax1.imshow(normalize(pre_event_colors))\n",
    "# post-event\n",
    "color_path_post_event = \"outresults/dsmpost/clr.tif\"\n",
    "post_event_colors = normalize(rasterio.open(color_path_post_event).read()[:3,:,:].transpose(1,2,0))\n",
    "ax2.imshow(post_event_colors)\n",
    "# 3D change detection\n",
    "post_event_colors[bin_refined_3D_diff, 0] = 255\n",
    "post_event_colors[bin_refined_3D_diff, 1:] = 0\n",
    "ax3.imshow(post_event_colors)\n",
    "\n",
    "ax1.title.set_text('True ortho pre-event')\n",
    "ax2.title.set_text('True ortho post-event')\n",
    "ax3.title.set_text('True ortho post-event + 3D change labels')\n",
    "pyplot.show()"
   ]
  },
  {
   "cell_type": "markdown",
   "metadata": {},
   "source": [
    "### 2D and 3D change comparison"
   ]
  },
  {
   "cell_type": "code",
   "execution_count": null,
   "metadata": {},
   "outputs": [],
   "source": [
    "fig1, (ax1, ax2) = pyplot.subplots(1,2, sharex=True, sharey=True,  figsize=(15,9))\n",
    "ax1.imshow(refined_2D_diff)\n",
    "ax2.imshow(bin_refined_3D_diff)\n",
    "\n",
    "ax1.title.set_text('Filtered 2D Changes')\n",
    "ax2.title.set_text('Filtered 3D Changes')\n",
    "pyplot.show()"
   ]
  },
  {
   "cell_type": "code",
   "execution_count": null,
   "metadata": {},
   "outputs": [],
   "source": []
  }
 ],
 "metadata": {
  "colab": {
   "provenance": [
    {
     "file_id": "https://github.com/cars-cnes/change-detection-for-natural-disaster-response/blob/main/tutorial.ipynb",
     "timestamp": 1719321136520
    }
   ]
  },
  "kernelspec": {
   "display_name": "Python 3 (ipykernel)",
   "language": "python",
   "name": "python3"
  },
  "language_info": {
   "codemirror_mode": {
    "name": "ipython",
    "version": 3
   },
   "file_extension": ".py",
   "mimetype": "text/x-python",
   "name": "python",
   "nbconvert_exporter": "python",
   "pygments_lexer": "ipython3"
  }
 },
 "nbformat": 4,
 "nbformat_minor": 4
}
