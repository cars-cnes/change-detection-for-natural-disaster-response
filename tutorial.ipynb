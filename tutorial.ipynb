{
 "cells": [
  {
   "cell_type": "markdown",
   "metadata": {},
   "source": [
    "# Multimodal (2D/3D) change detection for natural disaster response </h1>\n",
    "\n",
    "**This tutorial will highlight the capabilities of multimodal satellite imagery in addressing some of nowadays most impacting societal challenges using open source tools from CNES (French space agency).**\n",
    "\n",
    "In anticipation of the future CO3D mission, the French space agency (CNES) is currently developing open source tools for large-scale 3D data processing. With the arrival of 3D data on a more frequent basis, new use-cases for such data sources are emerging and enabling its applicability to pressing challenges such as improved crisis management in the aftermath of natural disasters. Change detection methodologies and their application to natural disaster response constitute a long-standing field within the remote sensing community, with initiatives like The International Charter Space and Major Disasters, open data programs of commercial satellite providers or annotated datasets like xview2 enabling a growing number of researchers and practitioners to continuously improve existing solutions. However, until now, the availability of post-event imagery, and thus related algorithms, have mainly been limited to monoscopic acquisitions, whereas with this type of constellations, a growing number of 3D data should also cover areas impacted by climate-related hazards.\n",
    "\n",
    "In this context, CNES is currently working on the hybridization of 2D and 3D data for multimodal change detection. The proposed tutorial will present and teach some of this work being carried out by CNES through a pipeline that can be used for rapid mapping and longer-term risk and recovery management in order to help improving and enriching common existing approaches.\n",
    "\n",
    "During this tutorial, you will discover how to:\n",
    "- generate Digital Surface Models from sets of stereo satellite images using the CARS 3D reconstruction library : https://github.com/CNES/cars\n",
    "- extract the Digital Terrain Models from Digital Surface Models through the Bulldozer library and derive a final Digital Height Model based on the obtained results : https://github.com/cnes/bulldozer\n",
    "- extract semantic information from the 2D imagery by using classification models and spectral indices\n",
    "- combine 2D and 3D change indicators in order to quantify and localize the potentially changed areas on a map\n",
    "- visualize, filter and extract information on these changes using the uncertainties provided by the tools"
   ]
  },
  {
   "cell_type": "markdown",
   "metadata": {},
   "source": [
    "## Clean"
   ]
  },
  {
   "cell_type": "code",
   "execution_count": null,
   "metadata": {},
   "outputs": [],
   "source": [
    "!rm -rf outresults config.json config.yaml"
   ]
  },
  {
   "cell_type": "markdown",
   "metadata": {},
   "source": [
    "## Installation (<10min)"
   ]
  },
  {
   "cell_type": "code",
   "execution_count": null,
   "metadata": {},
   "outputs": [],
   "source": [
    "!python --version"
   ]
  },
  {
   "cell_type": "code",
   "execution_count": null,
   "metadata": {},
   "outputs": [],
   "source": [
    "if 'google.colab' in str(get_ipython()):\n",
    "    !echo \"Running on CoLab\"\n",
    "    !wget https://raw.githubusercontent.com/cars-cnes/change-detection-for-natural-disaster-response/main/requirements.txt\n",
    "    !pip install -r requirements.txt\n",
    "else:\n",
    "    !echo \"Not running on CoLab\""
   ]
  },
  {
   "cell_type": "code",
   "execution_count": null,
   "metadata": {},
   "outputs": [],
   "source": [
    "!cars -h"
   ]
  },
  {
   "cell_type": "code",
   "execution_count": null,
   "metadata": {},
   "outputs": [],
   "source": [
    "!bulldozer -h"
   ]
  },
  {
   "cell_type": "markdown",
   "metadata": {},
   "source": [
    "## Data"
   ]
  },
  {
   "cell_type": "code",
   "execution_count": null,
   "metadata": {},
   "outputs": [],
   "source": [
    "from matplotlib import pyplot\n",
    "import rasterio\n",
    "from rasterio.plot import show\n",
    "\n",
    "if 'google.colab' in str(get_ipython()):\n",
    "    !echo \"Running on CoLab\"\n",
    "    !mkdir data\n",
    "    for pair in [\"pre\", \"post\"]:\n",
    "        for mod in [\"img\", \"color\"]:\n",
    "            for idx in range(2):\n",
    "                for ext in [\".geom\", \".tif\"]:\n",
    "                    filename = \"data/\"+pair+\"_event_\"+mod+str(idx+1)+ext\n",
    "                    filename = \"https://raw.githubusercontent.com/cars-cnes/change-detection-for-natural-disaster-response/main/\"+filename\n",
    "                    !wget {filename} -P data/ \n",
    "else:\n",
    "    !echo \"Not running on CoLab\"\n",
    "\n",
    "fig, axs = pyplot.subplots(2, 2, figsize=(10,10))\n",
    "\n",
    "for idx1, pair in enumerate([\"pre\", \"post\"]):\n",
    "    for idx2 in range(2):\n",
    "        with rasterio.open(\"data/\"+pair+\"_event_img\"+str(idx2+1)+\".tif\") as src:\n",
    "            show((src), ax=axs[idx1, idx2], cmap='gray', title=pair+\"event\"+str(idx2+1))"
   ]
  },
  {
   "cell_type": "markdown",
   "metadata": {},
   "source": [
    "## Generate Digital Surface Models from sets of stereo satellite images\n",
    "using the CARS 3D reconstruction library : https://github.com/CNES/cars\n"
   ]
  },
  {
   "cell_type": "markdown",
   "metadata": {},
   "source": [
    "### Create your configuration file"
   ]
  },
  {
   "cell_type": "code",
   "execution_count": null,
   "metadata": {},
   "outputs": [],
   "source": [
    "sensors = dict()\n",
    "sensors[\"pre1\"] = {\"image\": \"data/pre_event_img1.tif\",\n",
    "                   \"geomodel\": \"data/pre_event_img1.geom\",\n",
    "                   \"color\": \"data/pre_event_color1.tif\"}\n",
    "sensors[\"pre2\"] = {\"image\": \"data/pre_event_img2.tif\",\n",
    "                   \"geomodel\": \"data/pre_event_img2.geom\",\n",
    "                   \"color\": \"data/pre_event_color2.tif\"}\n",
    "\n",
    "pairing = list()\n",
    "pairing.append([\"pre1\", \"pre2\"])\n",
    "\n",
    "inputs = {\"sensors\": sensors, \"pairing\": pairing}\n",
    "\n",
    "config = {}\n",
    "config[\"inputs\"] = inputs\n",
    "config[\"output\"] = {\"out_dir\": \"outresults/dsmpre\"}"
   ]
  },
  {
   "cell_type": "markdown",
   "metadata": {},
   "source": [
    "### Launch CARS - Python API"
   ]
  },
  {
   "cell_type": "code",
   "execution_count": null,
   "metadata": {},
   "outputs": [],
   "source": [
    "from cars.pipelines.pipeline import Pipeline\n",
    "\n",
    "pipeline = Pipeline(\"sensors_to_dense_dsm\", config, os.getcwd())\n",
    "pipeline.run()"
   ]
  },
  {
   "cell_type": "markdown",
   "metadata": {},
   "source": [
    "### Let's see the results"
   ]
  },
  {
   "cell_type": "markdown",
   "metadata": {},
   "source": [
    "#### Open & format output data"
   ]
  },
  {
   "cell_type": "code",
   "execution_count": null,
   "metadata": {},
   "outputs": [],
   "source": [
    "import rasterio as rio\n",
    "import numpy as np\n",
    "\n",
    "with rio.open('outresults/dsmpre/dsm.tif') as dsm_reader:\n",
    "  altitudes = dsm_reader.read(1)\n",
    "  transform = dsm_reader.transform\n",
    "  width, height = dsm_reader.width, dsm_reader.height\n",
    "  cols, rows = np.meshgrid(np.arange(width), np.arange(height))\n",
    "\n",
    "  # get coordinates to plot points cloud\n",
    "  x_coords, y_coords = rio.transform.xy(transform, rows, cols, offset='center')\n",
    "  x_coords = np.ravel(x_coords).T\n",
    "  y_coords = np.ravel(y_coords).T\n",
    "  z_coords = altitudes.reshape(-1).T\n",
    "\n",
    "  nodata = dsm_reader.nodata\n",
    "\n",
    "with rio.open('outresults/dsmpre/clr.tif') as clr_reader:\n",
    "  colors = clr_reader.read().astype(float)\n",
    "  # swap axes for imshow\n",
    "  colors = np.swapaxes(colors[:3, :, :], 0, 2)\n",
    "\n",
    "  # rescale colors\n",
    "  for idx in range(3):\n",
    "    colors[..., idx] = colors[..., idx].astype(float) / colors[..., idx].max()\n",
    "\n",
    "# stack coords as points cloud\n",
    "cloud = np.stack((x_coords, y_coords, z_coords), axis=1)\n",
    "valid = cloud[:, 2] != nodata\n",
    "cloud = cloud[valid]\n",
    "\n",
    "# remove nodata altitudes\n",
    "altitudes[altitudes==nodata] = np.nan"
   ]
  },
  {
   "cell_type": "markdown",
   "metadata": {},
   "source": [
    "#### Imshow (2D)"
   ]
  },
  {
   "cell_type": "code",
   "execution_count": null,
   "metadata": {},
   "outputs": [],
   "source": [
    "fig, (ax1, ax2) = pyplot.subplots(nrows=1, ncols=2, figsize=(15, 9),\n",
    "                              constrained_layout=True)\n",
    "\n",
    "fig.suptitle(\"Altitudes and Colors as images\", fontsize=15)\n",
    "im1 = ax1.imshow(altitudes.T, cmap='jet', aspect=\"auto\")\n",
    "ax1.axis('off')\n",
    "ax1.set_title('altitudes', fontsize=15)\n",
    "ax2.imshow(colors, aspect=\"auto\")\n",
    "ax2.axis('off')\n",
    "ax2.set_title('colors', fontsize=15)\n",
    "fig.colorbar(im1, ax=ax1, shrink=0.7, aspect=30, orientation=\"horizontal\", label=\"meters\")\n",
    "pyplot.show()"
   ]
  },
  {
   "cell_type": "markdown",
   "metadata": {},
   "source": [
    "#### Scatter (3D)"
   ]
  },
  {
   "cell_type": "code",
   "execution_count": null,
   "metadata": {},
   "outputs": [],
   "source": [
    "import plotly.graph_objects as go\n",
    "\n",
    "inds = np.random.choice(range(cloud.shape[0]), 20000)\n",
    "x = cloud[inds, 0]\n",
    "y = cloud[inds, 1]\n",
    "z = cloud[inds, 2]\n",
    "\n",
    "layout = go.Layout(scene=dict(aspectmode=\"data\"),\n",
    "                   height=600, width=1200,\n",
    "                   title=go.layout.Title(text=\"Points Cloud Viewer\"))\n",
    "fig = go.Figure(data=[go.Scatter3d(x=x, y=y, z=z,\n",
    "                                   mode='markers',\n",
    "                                   marker=dict(\n",
    "                                   size=2.5,\n",
    "                                   color=z,\n",
    "                                   colorscale='jet'))],\n",
    "                layout=layout)\n",
    "fig.show()"
   ]
  },
  {
   "cell_type": "markdown",
   "metadata": {},
   "source": [
    "### Create your second configuration file"
   ]
  },
  {
   "cell_type": "code",
   "execution_count": null,
   "metadata": {},
   "outputs": [],
   "source": [
    "import os, json\n",
    "from cars.pipelines.pipeline import Pipeline\n",
    "\n",
    "sensors = dict()\n",
    "sensors[\"post1\"] = {\"image\": \"data/post_event_img1.tif\",\n",
    "                   \"geomodel\": \"data/post_event_img1.geom\",\n",
    "                   \"color\": \"data/post_event_color1.tif\"}\n",
    "sensors[\"post2\"] = {\"image\": \"data/post_event_img2.tif\",\n",
    "                   \"geomodel\": \"data/post_event_img2.geom\",\n",
    "                   \"color\": \"data/post_event_color2.tif\"}\n",
    "\n",
    "pairing = list()\n",
    "pairing.append([\"post1\", \"post2\"])\n",
    "\n",
    "inputs = {\"sensors\": sensors, \"pairing\": pairing}\n",
    "\n",
    "config = {}\n",
    "config[\"inputs\"] = inputs\n",
    "config[\"output\"] = {\"out_dir\": \"outresults/dsmpost\"}\n",
    "\n",
    "with open(\"config.json\", \"w\") as f:  \n",
    "    json.dump(config, f, indent=2)"
   ]
  },
  {
   "cell_type": "code",
   "execution_count": null,
   "metadata": {},
   "outputs": [],
   "source": [
    "!cat config.json"
   ]
  },
  {
   "cell_type": "markdown",
   "metadata": {},
   "source": [
    "### Launch CARS - Command line"
   ]
  },
  {
   "cell_type": "code",
   "execution_count": null,
   "metadata": {},
   "outputs": [],
   "source": [
    "!cars config.json"
   ]
  },
  {
   "cell_type": "markdown",
   "metadata": {},
   "source": [
    "## Extract the Digital Terrain Models from Digital Surface Models through the Bulldozer library\n",
    "and derive a final Digital Height Model based on the obtained results : https://github.com/cnes/bulldozer\n"
   ]
  },
  {
   "cell_type": "markdown",
   "metadata": {},
   "source": [
    "### Launch Bulldozer - Python API"
   ]
  },
  {
   "cell_type": "code",
   "execution_count": null,
   "metadata": {},
   "outputs": [],
   "source": [
    "from bulldozer.pipeline.bulldozer_pipeline import dsm_to_dtm\n",
    "\n",
    "dsm_to_dtm(dsm_path=\"outresults/dsmpre/dsm.tif\",\n",
    "           output_dir=\"outresults/dtmpre\",\n",
    "           nb_max_workers=1,\n",
    "           uniform_filter_size=3)"
   ]
  },
  {
   "cell_type": "code",
   "execution_count": null,
   "metadata": {},
   "outputs": [],
   "source": [
    "import yaml\n",
    "config = {\"dsm_path\": \"outresults/dsmpost/dsm.tif\",\n",
    "           \"output_dir\": \"outresults/dtmpost\",\n",
    "           \"nb_max_workers\": 1,\n",
    "           \"uniform_filter_size\": 3}\n",
    "\n",
    "with open(\"config.yml\", \"w\") as f:  \n",
    "    yaml.dump(config, f)"
   ]
  },
  {
   "cell_type": "code",
   "execution_count": null,
   "metadata": {},
   "outputs": [],
   "source": [
    "!cat config.yml"
   ]
  },
  {
   "cell_type": "markdown",
   "metadata": {},
   "source": [
    "### Launch Bulldozer - Command line"
   ]
  },
  {
   "cell_type": "code",
   "execution_count": null,
   "metadata": {},
   "outputs": [],
   "source": [
    "!bulldozer --conf config.yml"
   ]
  },
  {
   "cell_type": "markdown",
   "metadata": {},
   "source": [
    "### Let's see the results"
   ]
  },
  {
   "cell_type": "markdown",
   "metadata": {},
   "source": [
    "#### DSM, DTM, DHM profiles"
   ]
  },
  {
   "cell_type": "code",
   "execution_count": null,
   "metadata": {},
   "outputs": [],
   "source": [
    "row_number = 550\n",
    "pair = \"pre\"\n",
    "\n",
    "from rasterio.windows import Window\n",
    "fig, axs = pyplot.subplots(3, 3, figsize=(20, 20))\n",
    "\n",
    "gs = axs[1, 0].get_gridspec()\n",
    "\n",
    "for ax in axs[1, 0:]:\n",
    "    ax.remove()\n",
    "\n",
    "for ax in axs[2, 0:]:\n",
    "    ax.remove()\n",
    "\n",
    "axdstm = fig.add_subplot(gs[1, 0:])\n",
    "axdhm = fig.add_subplot(gs[2, 0:])\n",
    "\n",
    "for idx, out in enumerate([\"dsm\"+pair+\"/dsm.tif\", \"dtm\"+pair+\"/DTM.tif\", \"dtm\"+pair+\"/DHM.tif\"]):\n",
    "    with rasterio.open(os.path.join(\"outresults\", out)) as src:\n",
    "        axs[0, idx].plot([0, src.width], [row_number, row_number],\n",
    "                         color=\"red\", linewidth=4)\n",
    "        profiley = np.ravel(src.read(1, window=Window(0, row_number, src.width, 1)))\n",
    "        profilex = np.arange(len(profiley))\n",
    "        profilex = profilex[profiley!=src.nodata]\n",
    "        profiley = profiley[profiley!=src.nodata]\n",
    "        \n",
    "        if os.path.basename(out) != \"DHM.tif\":\n",
    "            axdstm.plot(profilex, profiley, label=os.path.basename(out).lower())\n",
    "        else:\n",
    "            axdhm.plot(profilex, profiley, label=os.path.basename(out).lower())\n",
    "\n",
    "        array = src.read(1)\n",
    "        array[array==src.nodata] = np.nan\n",
    "        axs[0, idx].imshow(array, cmap='gray')\n",
    "        axs[0, idx].set_title(os.path.basename(out).lower())\n",
    "        \n",
    "axdstm.legend()\n",
    "axdhm.legend()\n",
    "pyplot.show()"
   ]
  }
 ],
 "metadata": {
  "colab": {
   "provenance": []
  },
  "kernelspec": {
   "display_name": "Python 3 (ipykernel)",
   "language": "python",
   "name": "python3"
  },
  "language_info": {
   "codemirror_mode": {
    "name": "ipython",
    "version": 3
   },
   "file_extension": ".py",
   "mimetype": "text/x-python",
   "name": "python",
   "nbconvert_exporter": "python",
   "pygments_lexer": "ipython3"
  }
 },
 "nbformat": 4,
 "nbformat_minor": 4
}
